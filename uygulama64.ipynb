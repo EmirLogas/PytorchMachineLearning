{
 "cells": [
  {
   "cell_type": "code",
   "execution_count": 1,
   "metadata": {
    "id": "e3LYiWom2MlV"
   },
   "outputs": [],
   "source": [
    "import torch\n",
    "from torch.utils.data import DataLoader, Dataset\n",
    "import glob\n",
    "import cv2\n",
    "from torchvision.transforms import ToTensor, Resize\n",
    "import random\n",
    "import torch.nn as nn\n",
    "import torch.nn.functional as F"
   ]
  },
  {
   "cell_type": "code",
   "execution_count": 2,
   "metadata": {
    "id": "Qtp8m-XYGjpR"
   },
   "outputs": [],
   "source": [
    "class MyDataset(Dataset):\n",
    "    def __init__(self, train):\n",
    "        data_path = \"dataset\"\n",
    "        self.data_list = glob.glob(data_path + \"/*/*.png\")\n",
    "        random.shuffle(self.data_list)\n",
    "        if train:\n",
    "            self.data_list = self.data_list[:int(len(self.data_list) * 0.8)]\n",
    "        else:\n",
    "            self.data_list = self.data_list[int(len(self.data_list) * 0.8):]\n",
    "\n",
    "    def __getitem__(self, index):\n",
    "        img = cv2.imread(self.data_list[index])\n",
    "        img = cv2.resize(img, (64, 64))\n",
    "        img = ToTensor()(img)\n",
    "        label = self.data_list[index].split(\"/\")[-1].split(\"\\\\\")[-2]\n",
    "        return img, int(label)\n",
    "\n",
    "    def __len__(self):\n",
    "        return len(self.data_list)\n",
    "\n",
    "ds_train = MyDataset(train=True)\n",
    "ds_val = MyDataset(train=False)"
   ]
  },
  {
   "cell_type": "code",
   "execution_count": 3,
   "metadata": {
    "id": "6DPITRTAJ1-F"
   },
   "outputs": [],
   "source": [
    "dl_train = DataLoader(ds_train, batch_size = 32, shuffle = True)\n",
    "dl_val = DataLoader(ds_val, batch_size = 32, shuffle = True)"
   ]
  },
  {
   "cell_type": "code",
   "execution_count": 4,
   "metadata": {
    "id": "-09N38n8LYrM"
   },
   "outputs": [],
   "source": [
    "class MyModel(nn.Module):\n",
    "    def __init__(self):\n",
    "        super().__init__()\n",
    "        self.conv1 = nn.Conv2d(3, 32, 3, padding=1)\n",
    "        self.conv2 = nn.Conv2d(32, 32, 3, padding=1)\n",
    "        self.conv3 = nn.Conv2d(32, 64, 3, padding=1)\n",
    "        self.conv4 = nn.Conv2d(64, 64, 3, padding=1)\n",
    "\n",
    "        self.pool = nn.MaxPool2d(2, 2)\n",
    "        self.pool2 = nn.MaxPool2d(2, 2)\n",
    "        self.pool3 = nn.MaxPool2d(2, 2)\n",
    "        self.pool4 = nn.MaxPool2d(2, 2)\n",
    "        \n",
    "        self.dropout = nn.Dropout(0.25)\n",
    "\n",
    "        self.fc1 = nn.Linear(64 * 4 * 4, 512)\n",
    "        self.fc2 = nn.Linear(512, 2)\n",
    "    def forward(self, x):\n",
    "        out = self.conv1(x)\n",
    "        out = F.relu(out)\n",
    "        out = self.pool(out)\n",
    "\n",
    "        out = self.conv2(out)\n",
    "        out = F.relu(out)\n",
    "        out = self.pool2(out)\n",
    "\n",
    "        out = self.conv3(out)\n",
    "        out = F.relu(out)\n",
    "        out = self.pool3(out)\n",
    "\n",
    "        out = self.conv4(out)\n",
    "        out = F.relu(out)\n",
    "        out = self.pool4(out)\n",
    "\n",
    "        out = out.view(out.size(0), -1)\n",
    "\n",
    "        out = self.dropout(out)\n",
    "        out = self.fc1(out)\n",
    "\n",
    "        out = F.relu(out)\n",
    "\n",
    "        out = self.dropout(out)\n",
    "        out = self.fc2(out)\n",
    "        \n",
    "        return out\n",
    "    \n",
    "model = MyModel()"
   ]
  },
  {
   "cell_type": "code",
   "execution_count": 5,
   "metadata": {
    "id": "hQTFQeDbY1He"
   },
   "outputs": [],
   "source": [
    "loss_fn = nn.CrossEntropyLoss()\n",
    "optimizer = torch.optim.Adam(model.parameters(), lr = 0.001)"
   ]
  },
  {
   "cell_type": "code",
   "execution_count": 6,
   "metadata": {
    "id": "7fDLVHZ-p0a3"
   },
   "outputs": [],
   "source": [
    "def correction(pred, label):\n",
    "    correct = 0\n",
    "    with torch.no_grad():\n",
    "        for data, label in dl_val:\n",
    "            pred = model(data)\n",
    "            pred = torch.argmax(pred, dim = 1)\n",
    "            correct += torch.sum(pred == label).item()\n",
    "    return correct / len(dl_val.dataset)"
   ]
  },
  {
   "cell_type": "code",
   "execution_count": 7,
   "metadata": {
    "colab": {
     "base_uri": "https://localhost:8080/"
    },
    "id": "a8IIUVbiXO34",
    "outputId": "779b51b0-d50e-4855-830a-56514b205a4c"
   },
   "outputs": [
    {
     "name": "stdout",
     "output_type": "stream",
     "text": [
      "Epoch: 0\n",
      "Train Loss: 0.7015120387077332\n",
      "Validation Accuracy: 0.5\n",
      "Epoch: 1\n",
      "Train Loss: 0.6604321002960205\n",
      "Validation Accuracy: 0.75\n",
      "Epoch: 2\n",
      "Train Loss: 0.7293635606765747\n",
      "Validation Accuracy: 0.7386363636363636\n",
      "Epoch: 3\n",
      "Train Loss: 0.35158881545066833\n",
      "Validation Accuracy: 0.8863636363636364\n",
      "Epoch: 4\n",
      "Train Loss: 0.4426625072956085\n",
      "Validation Accuracy: 0.9318181818181818\n",
      "Epoch: 5\n",
      "Train Loss: 0.5439110994338989\n",
      "Validation Accuracy: 0.9204545454545454\n",
      "Epoch: 6\n",
      "Train Loss: 0.26401054859161377\n",
      "Validation Accuracy: 0.9431818181818182\n",
      "Epoch: 7\n",
      "Train Loss: 0.16540445387363434\n",
      "Validation Accuracy: 0.9431818181818182\n",
      "Epoch: 8\n",
      "Train Loss: 0.11339705437421799\n",
      "Validation Accuracy: 0.9659090909090909\n",
      "Epoch: 9\n",
      "Train Loss: 0.1407967209815979\n",
      "Validation Accuracy: 0.9545454545454546\n",
      "Epoch: 10\n",
      "Train Loss: 0.10916218906641006\n",
      "Validation Accuracy: 0.9545454545454546\n",
      "Epoch: 11\n",
      "Train Loss: 0.051885705441236496\n",
      "Validation Accuracy: 0.9886363636363636\n",
      "Epoch: 12\n",
      "Train Loss: 0.18683941662311554\n",
      "Validation Accuracy: 0.9886363636363636\n",
      "Epoch: 13\n",
      "Train Loss: 0.2436048686504364\n",
      "Validation Accuracy: 0.9659090909090909\n",
      "Epoch: 14\n",
      "Train Loss: 0.10646772384643555\n",
      "Validation Accuracy: 0.9545454545454546\n",
      "Epoch: 15\n",
      "Train Loss: 0.20169973373413086\n",
      "Validation Accuracy: 0.9772727272727273\n",
      "Epoch: 16\n",
      "Train Loss: 0.16880056262016296\n",
      "Validation Accuracy: 0.9886363636363636\n",
      "Epoch: 17\n",
      "Train Loss: 0.05058202147483826\n",
      "Validation Accuracy: 0.9431818181818182\n",
      "Epoch: 18\n",
      "Train Loss: 0.02999209612607956\n",
      "Validation Accuracy: 0.9886363636363636\n",
      "Epoch: 19\n",
      "Train Loss: 0.02131013199687004\n",
      "Validation Accuracy: 0.9886363636363636\n",
      "Epoch: 20\n",
      "Train Loss: 0.050900500267744064\n",
      "Validation Accuracy: 0.9772727272727273\n",
      "Epoch: 21\n",
      "Train Loss: 0.04983310028910637\n",
      "Validation Accuracy: 1.0\n",
      "Epoch: 22\n",
      "Train Loss: 0.0060456981882452965\n",
      "Validation Accuracy: 1.0\n",
      "Epoch: 23\n",
      "Train Loss: 0.04882894083857536\n",
      "Validation Accuracy: 0.9772727272727273\n",
      "Epoch: 24\n",
      "Train Loss: 0.042837195098400116\n",
      "Validation Accuracy: 0.9659090909090909\n",
      "Epoch: 25\n",
      "Train Loss: 0.2565474510192871\n",
      "Validation Accuracy: 0.9772727272727273\n",
      "Epoch: 26\n",
      "Train Loss: 0.018153881654143333\n",
      "Validation Accuracy: 0.9772727272727273\n",
      "Epoch: 27\n",
      "Train Loss: 0.041578177362680435\n",
      "Validation Accuracy: 1.0\n",
      "Epoch: 28\n",
      "Train Loss: 0.019636429846286774\n",
      "Validation Accuracy: 0.9545454545454546\n",
      "Epoch: 29\n",
      "Train Loss: 0.03082171455025673\n",
      "Validation Accuracy: 0.9886363636363636\n"
     ]
    }
   ],
   "source": [
    "epochs = 30\n",
    "for epoch in range(epochs):\n",
    "    for data, label in dl_train:\n",
    "        pred = model(data)\n",
    "        loss = loss_fn(pred, label)\n",
    "\n",
    "        optimizer.zero_grad()\n",
    "        loss.backward()\n",
    "        optimizer.step()\n",
    "        \n",
    "    print(\"Epoch: {}\".format(epoch))\n",
    "    print(\"Train Loss: {}\".format(loss.item()))\n",
    "    print(\"Validation Accuracy: {}\".format(correction(pred, label)))"
   ]
  },
  {
   "cell_type": "code",
   "execution_count": 16,
   "metadata": {
    "id": "WsN8AsOCYIVq"
   },
   "outputs": [],
   "source": [
    "torch.save(model.state_dict(), 'model_weights3.pth')"
   ]
  }
 ],
 "metadata": {
  "accelerator": "GPU",
  "colab": {
   "collapsed_sections": [],
   "name": "Untitled6.ipynb",
   "provenance": []
  },
  "interpreter": {
   "hash": "cdde8dec45b4ce1eca026569354e727deaa3aba8d17b734b4cbbe245da34f1fc"
  },
  "kernelspec": {
   "display_name": "Python 3.10.4 64-bit",
   "language": "python",
   "name": "python3"
  },
  "language_info": {
   "codemirror_mode": {
    "name": "ipython",
    "version": 3
   },
   "file_extension": ".py",
   "mimetype": "text/x-python",
   "name": "python",
   "nbconvert_exporter": "python",
   "pygments_lexer": "ipython3",
   "version": "3.10.4"
  }
 },
 "nbformat": 4,
 "nbformat_minor": 1
}
